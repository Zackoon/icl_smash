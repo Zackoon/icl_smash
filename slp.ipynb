{
 "cells": [
  {
   "cell_type": "code",
   "execution_count": 26,
   "id": "608918b2",
   "metadata": {},
   "outputs": [],
   "source": [
    "import os\n",
    "import melee \n",
    "import numpy as np\n"
   ]
  },
  {
   "cell_type": "code",
   "execution_count": 27,
   "id": "d785e7e7",
   "metadata": {},
   "outputs": [
    {
     "data": {
      "text/plain": [
       "'/Users/alexoon/Desktop/smash_bot'"
      ]
     },
     "execution_count": 27,
     "metadata": {},
     "output_type": "execute_result"
    }
   ],
   "source": [
    "os.getcwd()"
   ]
  },
  {
   "cell_type": "code",
   "execution_count": null,
   "id": "5b2c63b2",
   "metadata": {},
   "outputs": [
    {
     "ename": "TypeError",
     "evalue": "Console.__init__() got an unexpected keyword argument 'is_dolphin'",
     "output_type": "error",
     "traceback": [
      "\u001b[0;31m---------------------------------------------------------------------------\u001b[0m",
      "\u001b[0;31mTypeError\u001b[0m                                 Traceback (most recent call last)",
      "Cell \u001b[0;32mIn[28], line 1\u001b[0m\n\u001b[0;32m----> 1\u001b[0m console \u001b[38;5;241m=\u001b[39m \u001b[43mmelee\u001b[49m\u001b[38;5;241;43m.\u001b[39;49m\u001b[43mConsole\u001b[49m\u001b[43m(\u001b[49m\u001b[43mis_dolphin\u001b[49m\u001b[38;5;241;43m=\u001b[39;49m\u001b[38;5;28;43;01mFalse\u001b[39;49;00m\u001b[43m,\u001b[49m\n\u001b[1;32m      2\u001b[0m \u001b[43m                        \u001b[49m\u001b[43mallow_old_version\u001b[49m\u001b[38;5;241;43m=\u001b[39;49m\u001b[38;5;28;43;01mFalse\u001b[39;49;00m\u001b[43m,\u001b[49m\n\u001b[1;32m      3\u001b[0m \u001b[43m                        \u001b[49m\u001b[43mpath\u001b[49m\u001b[38;5;241;43m=\u001b[39;49m\u001b[38;5;124;43m\"\u001b[39;49m\u001b[38;5;124;43m./data/BTSSmash-Game_20200126T202356.slp\u001b[39;49m\u001b[38;5;124;43m\"\u001b[39;49m\n\u001b[1;32m      4\u001b[0m \u001b[43m                        \u001b[49m\u001b[43m)\u001b[49m\n\u001b[1;32m      5\u001b[0m console\u001b[38;5;241m.\u001b[39mconnect()\n\u001b[1;32m      7\u001b[0m \u001b[38;5;28;01mwhile\u001b[39;00m \u001b[38;5;28;01mTrue\u001b[39;00m:\n",
      "\u001b[0;31mTypeError\u001b[0m: Console.__init__() got an unexpected keyword argument 'is_dolphin'"
     ]
    }
   ],
   "source": [
    "# console = melee.Console(is_dolphin=False,\n",
    "#                         allow_old_version=False,\n",
    "#                         path=\"./data/BTSSmash-Game_20200126T202356.slp\"\n",
    "#                         )\n",
    "# console.connect()\n",
    "\n",
    "# while True:\n",
    "#     gamestate = console.step()\n",
    "#     # step() returns None when the file ends\n",
    "#     if gamestate is None:\n",
    "#         break\n",
    "#     print(\"Frame \" + str(gamestate.frame))\n",
    "#     for _, player in gamestate.players.items():\n",
    "#         print(\"\\t\", player.stock, player.percent)"
   ]
  },
  {
   "cell_type": "code",
   "execution_count": 40,
   "id": "f5233e87",
   "metadata": {},
   "outputs": [
    {
     "name": "stdout",
     "output_type": "stream",
     "text": [
      "None\n",
      "Shape: (12158, 40)\n",
      "[[-40.  32.   0.   0.   0. 256. 256.   1.   0. -40.  32.   0.  60.   0.\n",
      "  322.   1.   4.   6.   7.   1.  40.  32.   0.   0.   0.   0.   0.  -1.\n",
      "    0.  40.  32.   0.  60.   0. 322.   1.   4.   6.  18.  -1.]\n",
      " [-40.  32.   0.   0.   0. 256. 256.   1.   0. -40.  32.   0.  60.   0.\n",
      "  322.   1.   4.   6.   7.   1.  40.  32.   0.   0.   0.   0.   0.  -1.\n",
      "    0.  40.  32.   0.  60.   0. 322.   1.   4.   6.  18.  -1.]\n",
      " [-40.  32.   0.   0.   0. 256. 256.   1.   0. -40.  32.   0.  60.   0.\n",
      "  322.   1.   4.   6.   7.   1.  40.  32.   0.   0.   0.   0.   0.  -1.\n",
      "    0.  40.  32.   0.  60.   0. 322.   1.   4.   6.  18.  -1.]\n",
      " [-40.  32.   0.   0.   0. 256. 256.   1.   0. -40.  32.   0.  60.   0.\n",
      "  322.   1.   4.   6.   7.   1.  40.  32.   0.   0.   0.   0.   0.  -1.\n",
      "    0.  40.  32.   0.  60.   0. 322.   1.   4.   6.  18.  -1.]\n",
      " [-40.  32.   0.   0.   0. 256. 256.   1.   0. -40.  32.   0.  60.   0.\n",
      "  322.   1.   4.   6.   7.   1.  40.  32.   0.   0.   0.   0.   0.  -1.\n",
      "    0.  40.  32.   0.  60.   0. 322.   1.   4.   6.  18.  -1.]]\n"
     ]
    }
   ],
   "source": [
    "import peppi_py as peppi\n",
    "import numpy as np\n",
    "\n",
    "def get_numpy_row(pre, post):\n",
    "    def safe_extract(val):\n",
    "        return val.to_numpy() # if val is not None else np.nan \n",
    "\n",
    "    features = []\n",
    "\n",
    "    # --- Pre ---\n",
    "    features += [\n",
    "        safe_extract(pre.position.x),\n",
    "        safe_extract(pre.position.y),\n",
    "        safe_extract(pre.joystick.x),\n",
    "        safe_extract(pre.joystick.y),\n",
    "        safe_extract(pre.triggers),\n",
    "        safe_extract(pre.buttons),\n",
    "        safe_extract(pre.buttons_physical),\n",
    "        safe_extract(pre.direction),\n",
    "        safe_extract(pre.percent) if pre.percent else np.nan\n",
    "    ]\n",
    "\n",
    "    # --- Post ---\n",
    "    features += [\n",
    "        safe_extract(post.position.x),\n",
    "        safe_extract(post.position.y),\n",
    "        safe_extract(post.percent),\n",
    "        safe_extract(post.shield),\n",
    "        safe_extract(post.combo_count),\n",
    "        safe_extract(post.state),\n",
    "        safe_extract(post.airborne) if post.airborne else np.nan,\n",
    "        safe_extract(post.stocks),\n",
    "        safe_extract(post.last_hit_by),\n",
    "        safe_extract(post.character),\n",
    "        safe_extract(post.direction),\n",
    "    ]\n",
    "\n",
    "    return features\n",
    "\n",
    "def slp_to_numpy(path, num_ports=2):\n",
    "    game = peppi.read_slippi(path)\n",
    "    rows = []\n",
    "\n",
    "    for port in range(num_ports):\n",
    "        frame = game.frames\n",
    "        try:\n",
    "            pre = frame.ports[port].leader.pre\n",
    "            post = frame.ports[port].leader.post\n",
    "            row = get_numpy_row(pre, post)\n",
    "            rows.append(row)\n",
    "        except Exception:\n",
    "            # If frame/port is missing or broken, skip or pad\n",
    "            rows.append([np.nan] * 20)\n",
    "\n",
    "    arr = np.array(rows)\n",
    "    # transpose to (12158, 2, 20)\n",
    "    arr = arr.transpose(2, 0, 1)\n",
    "    return arr.reshape(arr.shape[0], -1)\n",
    "\n",
    "# Example usage\n",
    "np_data = slp_to_numpy(\"./data/Stream-Game_20220828T225335.slp\")\n",
    "print(\"Shape:\", np_data.shape)\n",
    "print(np_data[:5])\n"
   ]
  },
  {
   "cell_type": "code",
   "execution_count": 41,
   "id": "4c2d7b3a",
   "metadata": {},
   "outputs": [],
   "source": [
    "np.save(\"training_data.npy\", np_data)"
   ]
  },
  {
   "cell_type": "code",
   "execution_count": null,
   "id": "2ce6fd8a",
   "metadata": {},
   "outputs": [],
   "source": []
  }
 ],
 "metadata": {
  "kernelspec": {
   "display_name": "smash_venv",
   "language": "python",
   "name": "python3"
  },
  "language_info": {
   "codemirror_mode": {
    "name": "ipython",
    "version": 3
   },
   "file_extension": ".py",
   "mimetype": "text/x-python",
   "name": "python",
   "nbconvert_exporter": "python",
   "pygments_lexer": "ipython3",
   "version": "3.10.13"
  }
 },
 "nbformat": 4,
 "nbformat_minor": 5
}
