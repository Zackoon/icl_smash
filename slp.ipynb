{
 "cells": [
  {
   "cell_type": "code",
   "execution_count": 22,
   "id": "608918b2",
   "metadata": {},
   "outputs": [],
   "source": [
    "import os\n",
    "import importlib\n",
    "import melee \n",
    "import numpy as np\n",
    "import pandas as pd\n",
    "import data_processing \n",
    "importlib.reload(data_processing) \n",
    "from data_processing import process_slp_file, save_processed_data, process_and_save_sequences, process_archive_files_streaming, batch_process_archives, process_directory_slp_files"
   ]
  },
  {
   "cell_type": "code",
   "execution_count": 23,
   "id": "d785e7e7",
   "metadata": {},
   "outputs": [
    {
     "data": {
      "text/plain": [
       "'/Users/alexoon/Desktop/smash_bot/icl_smash'"
      ]
     },
     "execution_count": 23,
     "metadata": {},
     "output_type": "execute_result"
    }
   ],
   "source": [
    "os.getcwd()"
   ]
  },
  {
   "cell_type": "code",
   "execution_count": 24,
   "id": "8d27ebd4",
   "metadata": {},
   "outputs": [],
   "source": [
    "# # Process a single file\n",
    "# slp_file = \"./data/Stream-Game_20220828T223051.slp\"\n",
    "# sampled_data, columns = process_slp_file(slp_file)\n",
    "# sampled_data.shape\n",
    "\n",
    "# # Create and save sequences\n",
    "# input_seqs, target_seqs = process_and_save_sequences(\n",
    "#     sampled_data, \n",
    "#     \"./training_data\", \n",
    "#     \"[libmeleeV2]example1\",\n",
    "#     input_len=10,\n",
    "#     target_len=5\n",
    "# )\n",
    "# # Save the results\n",
    "# # save_processed_data(sampled_data, columns, \"./training_data\", \"[libmeleeV2]training_ex1.npy\", save_csv=True)\n",
    "\n",
    "# # Or use the main function directly\n",
    "# # shape = main(slp_file, \"./training_data\", \"DESIRED_FILENAME\")"
   ]
  },
  {
   "cell_type": "code",
   "execution_count": 25,
   "id": "5f07c6bf",
   "metadata": {},
   "outputs": [
    {
     "name": "stdout",
     "output_type": "stream",
     "text": [
      "Found 3 .slp files to process\n"
     ]
    },
    {
     "name": "stderr",
     "output_type": "stream",
     "text": [
      "Processing .slp files:  33%|███▎      | 1/3 [00:01<00:02,  1.23s/it]"
     ]
    },
    {
     "name": "stdout",
     "output_type": "stream",
     "text": [
      "Processed slp file shape: (10549, 59)\n",
      "Saved sequences to ./training_data/(...) Falco vs Falco (BABE) [DL] Game_20200122T213501_sequences.npz\n",
      "Input shape: (690, 10, 59)\n",
      "Target shape: (690, 5, 59)\n"
     ]
    },
    {
     "name": "stderr",
     "output_type": "stream",
     "text": [
      "Processing .slp files:  67%|██████▋   | 2/3 [00:02<00:01,  1.01s/it]"
     ]
    },
    {
     "name": "stdout",
     "output_type": "stream",
     "text": [
      "Processed slp file shape: (7106, 59)\n",
      "Saved sequences to ./training_data/(...) Falco vs Falcon (L$) [YS] Game_20200226T210843_sequences.npz\n",
      "Input shape: (460, 10, 59)\n",
      "Target shape: (460, 5, 59)\n"
     ]
    },
    {
     "name": "stderr",
     "output_type": "stream",
     "text": [
      "Processing .slp files: 100%|██████████| 3/3 [00:03<00:00,  1.03s/it]"
     ]
    },
    {
     "name": "stdout",
     "output_type": "stream",
     "text": [
      "Processed slp file shape: (9545, 59)\n",
      "Saved sequences to ./training_data/(...) Falco vs Falco (BABE) [BF] Game_20200122T213211_sequences.npz\n",
      "Input shape: (623, 10, 59)\n",
      "Target shape: (623, 5, 59)\n",
      "\n",
      "Successfully processed 3 files\n",
      "Results saved to: ./training_data\n"
     ]
    },
    {
     "name": "stderr",
     "output_type": "stream",
     "text": [
      "\n"
     ]
    }
   ],
   "source": [
    "# Define input and output directories\n",
    "data_dir = \"./data\"\n",
    "output_dir = \"./training_data\"\n",
    "\n",
    "# Make sure output directory exists\n",
    "os.makedirs(output_dir, exist_ok=True)\n",
    "\n",
    "# Process all .slp files\n",
    "processed_count, failed = process_directory_slp_files(\n",
    "    directory_path=data_dir,\n",
    "    output_dir=output_dir,\n",
    "    input_len=10,\n",
    "    target_len=5\n",
    ")"
   ]
  },
  {
   "cell_type": "code",
   "execution_count": null,
   "id": "3a178c88",
   "metadata": {},
   "outputs": [],
   "source": []
  },
  {
   "cell_type": "code",
   "execution_count": null,
   "id": "008a4530",
   "metadata": {},
   "outputs": [],
   "source": []
  }
 ],
 "metadata": {
  "kernelspec": {
   "display_name": "smash_venv",
   "language": "python",
   "name": "python3"
  },
  "language_info": {
   "codemirror_mode": {
    "name": "ipython",
    "version": 3
   },
   "file_extension": ".py",
   "mimetype": "text/x-python",
   "name": "python",
   "nbconvert_exporter": "python",
   "pygments_lexer": "ipython3",
   "version": "3.10.13"
  }
 },
 "nbformat": 4,
 "nbformat_minor": 5
}
