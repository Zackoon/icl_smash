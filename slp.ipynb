{
 "cells": [
  {
   "cell_type": "code",
   "execution_count": 17,
   "id": "608918b2",
   "metadata": {},
   "outputs": [],
   "source": [
    "import os\n",
    "import importlib\n",
    "import melee \n",
    "import numpy as np\n",
    "import pandas as pd\n",
    "import data_processing \n",
    "importlib.reload(data_processing) \n",
    "from data_processing import process_slp_file, save_processed_data, process_and_save_sequences, process_archive_files_streaming, batch_process_archives, process_directory_slp_files\n",
    "import torch"
   ]
  },
  {
   "cell_type": "code",
   "execution_count": 7,
   "id": "d785e7e7",
   "metadata": {},
   "outputs": [
    {
     "data": {
      "text/plain": [
       "'/Users/alexoon/Desktop/smash_bot/icl_smash'"
      ]
     },
     "execution_count": 7,
     "metadata": {},
     "output_type": "execute_result"
    }
   ],
   "source": [
    "os.getcwd()"
   ]
  },
  {
   "cell_type": "code",
   "execution_count": 8,
   "id": "8d27ebd4",
   "metadata": {},
   "outputs": [],
   "source": [
    "# # Process a single file\n",
    "# slp_file = \"./data/Stream-Game_20220828T223051.slp\"\n",
    "# sampled_data, columns = process_slp_file(slp_file)\n",
    "# sampled_data.shape\n",
    "\n",
    "# # Create and save sequences\n",
    "# input_seqs, target_seqs = process_and_save_sequences(\n",
    "#     sampled_data, \n",
    "#     \"./training_data\", \n",
    "#     \"[libmeleeV2]example1\",\n",
    "#     input_len=10,\n",
    "#     target_len=5\n",
    "# )\n",
    "# # Save the results\n",
    "# # save_processed_data(sampled_data, columns, \"./training_data\", \"[libmeleeV2]training_ex1.npy\", save_csv=True)\n",
    "\n",
    "# # Or use the main function directly\n",
    "# # shape = main(slp_file, \"./training_data\", \"DESIRED_FILENAME\")"
   ]
  },
  {
   "cell_type": "code",
   "execution_count": 9,
   "id": "5f07c6bf",
   "metadata": {},
   "outputs": [
    {
     "name": "stdout",
     "output_type": "stream",
     "text": [
      "Found 3 .slp files to process\n"
     ]
    },
    {
     "name": "stderr",
     "output_type": "stream",
     "text": [
      "Processing .slp files:  33%|███▎      | 1/3 [00:01<00:02,  1.27s/it]"
     ]
    },
    {
     "name": "stdout",
     "output_type": "stream",
     "text": [
      "Column information written to: data/(...) Falco vs Falco (BABE) [DL] Game_20200122T213501_columns.txt\n",
      "Saved sequences to ./training_data/(...) Falco vs Falco (BABE) [DL] Game_20200122T213501_sequences.npz\n"
     ]
    },
    {
     "name": "stderr",
     "output_type": "stream",
     "text": [
      "Processing .slp files:  67%|██████▋   | 2/3 [00:02<00:00,  1.03it/s]"
     ]
    },
    {
     "name": "stdout",
     "output_type": "stream",
     "text": [
      "Column information written to: data/(...) Falco vs Falcon (L$) [YS] Game_20200226T210843_columns.txt\n",
      "Saved sequences to ./training_data/(...) Falco vs Falcon (L$) [YS] Game_20200226T210843_sequences.npz\n"
     ]
    },
    {
     "name": "stderr",
     "output_type": "stream",
     "text": [
      "Processing .slp files: 100%|██████████| 3/3 [00:03<00:00,  1.04s/it]"
     ]
    },
    {
     "name": "stdout",
     "output_type": "stream",
     "text": [
      "Column information written to: data/(...) Falco vs Falco (BABE) [BF] Game_20200122T213211_columns.txt\n",
      "Saved sequences to ./training_data/(...) Falco vs Falco (BABE) [BF] Game_20200122T213211_sequences.npz\n",
      "\n",
      "Successfully processed 3 files\n",
      "Results saved to: ./training_data\n"
     ]
    },
    {
     "name": "stderr",
     "output_type": "stream",
     "text": [
      "\n"
     ]
    }
   ],
   "source": [
    "# Define input and output directories\n",
    "data_dir = \"./data\"\n",
    "output_dir = \"./training_data\"\n",
    "\n",
    "# Make sure output directory exists\n",
    "os.makedirs(output_dir, exist_ok=True)\n",
    "\n",
    "# Process all .slp files\n",
    "processed_count, failed = process_directory_slp_files(\n",
    "    directory_path=data_dir,\n",
    "    output_dir=output_dir,\n",
    "    input_len=10,\n",
    "    target_len=5\n",
    ")"
   ]
  },
  {
   "cell_type": "markdown",
   "id": "a47bc55d",
   "metadata": {},
   "source": [
    "# Testing Model Outputs"
   ]
  },
  {
   "cell_type": "code",
   "execution_count": 18,
   "id": "62cc32db",
   "metadata": {},
   "outputs": [],
   "source": [
    "ACTIONS_VOCAB_AMOUNT = 404\n",
    "CHARACTERS_VOCAB_AMOUNT = 35\n",
    "STAGES_VOCAB_AMOUNT = 10\n",
    "\n",
    "# Define enum dimensions (vocabulary sizes for each categorical feature)\n",
    "enum_dims = {\n",
    "    'stage': STAGES_VOCAB_AMOUNT,           # Number of possible stages\n",
    "    'p1_action': ACTIONS_VOCAB_AMOUNT,      # Number of possible actions\n",
    "    'p1_character': CHARACTERS_VOCAB_AMOUNT,    # Number of possible characters\n",
    "    'p2_action': ACTIONS_VOCAB_AMOUNT,      # Number of possible actions\n",
    "    'p2_character': CHARACTERS_VOCAB_AMOUNT     # Number of possible characters\n",
    "}\n",
    "\n",
    "# Define embedding dimensions for each enum feature\n",
    "embedding_dims = {\n",
    "    'stage': 16,          # Embedding dimension for stages\n",
    "    'p1_action': 64,      # Embedding dimension for actions\n",
    "    'p1_character': 16,   # Embedding dimension for characters\n",
    "    'p2_action': 64,      # Embedding dimension for actions\n",
    "    'p2_character': 16    # Embedding dimension for characters\n",
    "}"
   ]
  },
  {
   "cell_type": "code",
   "execution_count": null,
   "id": "14dee1ca",
   "metadata": {},
   "outputs": [
    {
     "name": "stderr",
     "output_type": "stream",
     "text": [
      "/Users/alexoon/Desktop/smash_bot/smash_venv/lib/python3.10/site-packages/torch/nn/modules/transformer.py:385: UserWarning: enable_nested_tensor is True, but self.use_nested_tensor is False because encoder_layer.self_attn.batch_first was not True(use batch_first for better inference performance)\n",
      "  warnings.warn(\n"
     ]
    },
    {
     "data": {
      "text/plain": [
       "MeleeEncoderDecoder(\n",
       "  (enum_embedder): EnumEmbeddingModule(\n",
       "    (embeddings): ModuleDict(\n",
       "      (stage): Embedding(10, 16)\n",
       "      (p1_action): Embedding(404, 64)\n",
       "      (p1_character): Embedding(35, 16)\n",
       "      (p2_action): Embedding(404, 64)\n",
       "      (p2_character): Embedding(35, 16)\n",
       "    )\n",
       "  )\n",
       "  (encoder_proj): Linear(in_features=230, out_features=128, bias=True)\n",
       "  (decoder_proj): Linear(in_features=230, out_features=128, bias=True)\n",
       "  (encoder): TransformerEncoder(\n",
       "    (layers): ModuleList(\n",
       "      (0-2): 3 x TransformerEncoderLayer(\n",
       "        (self_attn): MultiheadAttention(\n",
       "          (out_proj): NonDynamicallyQuantizableLinear(in_features=128, out_features=128, bias=True)\n",
       "        )\n",
       "        (linear1): Linear(in_features=128, out_features=2048, bias=True)\n",
       "        (dropout): Dropout(p=0.1, inplace=False)\n",
       "        (linear2): Linear(in_features=2048, out_features=128, bias=True)\n",
       "        (norm1): LayerNorm((128,), eps=1e-05, elementwise_affine=True)\n",
       "        (norm2): LayerNorm((128,), eps=1e-05, elementwise_affine=True)\n",
       "        (dropout1): Dropout(p=0.1, inplace=False)\n",
       "        (dropout2): Dropout(p=0.1, inplace=False)\n",
       "      )\n",
       "    )\n",
       "  )\n",
       "  (decoder): TransformerDecoder(\n",
       "    (layers): ModuleList(\n",
       "      (0-2): 3 x TransformerDecoderLayer(\n",
       "        (self_attn): MultiheadAttention(\n",
       "          (out_proj): NonDynamicallyQuantizableLinear(in_features=128, out_features=128, bias=True)\n",
       "        )\n",
       "        (multihead_attn): MultiheadAttention(\n",
       "          (out_proj): NonDynamicallyQuantizableLinear(in_features=128, out_features=128, bias=True)\n",
       "        )\n",
       "        (linear1): Linear(in_features=128, out_features=2048, bias=True)\n",
       "        (dropout): Dropout(p=0.1, inplace=False)\n",
       "        (linear2): Linear(in_features=2048, out_features=128, bias=True)\n",
       "        (norm1): LayerNorm((128,), eps=1e-05, elementwise_affine=True)\n",
       "        (norm2): LayerNorm((128,), eps=1e-05, elementwise_affine=True)\n",
       "        (norm3): LayerNorm((128,), eps=1e-05, elementwise_affine=True)\n",
       "        (dropout1): Dropout(p=0.1, inplace=False)\n",
       "        (dropout2): Dropout(p=0.1, inplace=False)\n",
       "        (dropout3): Dropout(p=0.1, inplace=False)\n",
       "      )\n",
       "    )\n",
       "  )\n",
       "  (post_cnn): Sequential(\n",
       "    (0): Conv1d(128, 128, kernel_size=(3,), stride=(1,), padding=(1,))\n",
       "    (1): ReLU()\n",
       "    (2): Conv1d(128, 128, kernel_size=(3,), stride=(1,), padding=(1,))\n",
       "    (3): ReLU()\n",
       "  )\n",
       "  (continuous_proj): Linear(in_features=128, out_features=54, bias=True)\n",
       "  (enum_projs): ModuleDict(\n",
       "    (stage): Linear(in_features=128, out_features=10, bias=True)\n",
       "    (p1_action): Linear(in_features=128, out_features=404, bias=True)\n",
       "    (p1_character): Linear(in_features=128, out_features=35, bias=True)\n",
       "    (p2_action): Linear(in_features=128, out_features=404, bias=True)\n",
       "    (p2_character): Linear(in_features=128, out_features=35, bias=True)\n",
       "  )\n",
       ")"
      ]
     },
     "execution_count": 22,
     "metadata": {},
     "output_type": "execute_result"
    }
   ],
   "source": [
    "from models import MeleeEncoderDecoder\n",
    "model = MeleeEncoderDecoder(\n",
    "        continuous_dim=54,\n",
    "        enum_dims=enum_dims,\n",
    "        embedding_dims=embedding_dims,\n",
    "        d_model=128,\n",
    "        nhead=4,\n",
    "        num_layers=3\n",
    "    )\n",
    "model.load_state_dict(torch.load(\"./models/May2nd_melee_predictor_all.pt\", map_location=torch.device('cpu')))\n",
    "model.eval() "
   ]
  },
  {
   "cell_type": "code",
   "execution_count": null,
   "id": "fc8c0af3",
   "metadata": {},
   "outputs": [],
   "source": [
    "# Keep a running buffer (deque) of all the frames from the past 150 frames, keep track of every 15th frame\n",
    "    # append current frame, then grab the slice of 15 spaced out\n",
    "    # then grab the appropriate slice of 15 spaced out\n",
    "    # then pass that in as a MeleeDataset object\n",
    "\n",
    "# Then with the Melee dataset object, do something similar to training data s.t.\n",
    "    # update Melee dataset object to have optional argument (\"real-time\" or something) telling it to use a passed in list of frames?\n",
    "    # targets will not exist\n",
    "    # only inputs\n",
    "# x_continuous is the batch['continuous_inputs']\n",
    "\n",
    "\n",
    "\n",
    "# Two options (It's kinda messy trying to predict the next 5 frames, so I'ma just grab the first frame from what it predicts):\n",
    "    # 1) Predict every frame \n",
    "        # Less complicated, though a bit questionable since the model is trained at a different temporal frequency maybe (?)\n",
    "    # 2) Predict every 15 frames and keep the same input for the next 15 frames?\n",
    "        # Questionable if this actually works\n",
    "\n",
    "# It would be great to actually just have the model output 1 thing next time AND also have a higher freq. sample rate"
   ]
  },
  {
   "cell_type": "markdown",
   "id": "a68f9b69",
   "metadata": {},
   "source": [
    "# Connecting to the Slippi Emulator"
   ]
  },
  {
   "cell_type": "code",
   "execution_count": null,
   "id": "3a178c88",
   "metadata": {},
   "outputs": [],
   "source": [
    "def load_slp_file(file_path):\n",
    "    \"\"\"Initialize and connect to a SLP file.\"\"\"\n",
    "    console = melee.Console(\n",
    "        is_dolphin=False,\n",
    "        allow_old_version=True,\n",
    "        path=file_path\n",
    "    )\n",
    "    console.connect()\n",
    "    return console"
   ]
  },
  {
   "cell_type": "code",
   "execution_count": 4,
   "id": "008a4530",
   "metadata": {},
   "outputs": [
    {
     "data": {
      "text/plain": [
       "(623, 10, 59)"
      ]
     },
     "execution_count": 4,
     "metadata": {},
     "output_type": "execute_result"
    }
   ],
   "source": [
    "import numpy as np\n",
    "example = np.load(\"/Users/alexoon/Desktop/smash_bot/icl_smash/training_data/(...) Falco vs Falco (BABE) [BF] Game_20200122T213211_sequences.npz\", allow_pickle=True)\n",
    "example['inputs'].shape"
   ]
  },
  {
   "cell_type": "code",
   "execution_count": null,
   "id": "91aa955b",
   "metadata": {},
   "outputs": [
    {
     "data": {
      "text/plain": [
       "(array([  3.,   1.,   3.,   1.,   0.,   0., 613.,   0.,   1.,   1.]),\n",
       " array([0.        , 0.0825    , 0.165     , 0.2475    , 0.33      ,\n",
       "        0.41249999, 0.49499999, 0.57749999, 0.65999999, 0.74249999,\n",
       "        0.82499999]),\n",
       " <BarContainer object of 10 artists>)"
      ]
     },
     "execution_count": 16,
     "metadata": {},
     "output_type": "execute_result"
    },
    {
     "data": {
      "image/png": "[encoded data removed]",
      "text/plain": [
       "<Figure size 640x480 with 1 Axes>"
      ]
     },
     "metadata": {},
     "output_type": "display_data"
    }
   ],
   "source": [
    "inputs = example['inputs']\n",
    "import matplotlib.pyplot as plt\n",
    "plt.hist(x=inputs[:, 0, 4])\n",
    "\n",
    "# consider clamping the values for button presses btw... (i.e. some outputs mean the button shouldn't be pressed by the model)"
   ]
  },
  {
   "cell_type": "code",
   "execution_count": null,
   "id": "775e98b2",
   "metadata": {},
   "outputs": [],
   "source": []
  }
 ],
 "metadata": {
  "kernelspec": {
   "display_name": "smash_venv",
   "language": "python",
   "name": "python3"
  },
  "language_info": {
   "codemirror_mode": {
    "name": "ipython",
    "version": 3
   },
   "file_extension": ".py",
   "mimetype": "text/x-python",
   "name": "python",
   "nbconvert_exporter": "python",
   "pygments_lexer": "ipython3",
   "version": "3.10.13"
  }
 },
 "nbformat": 4,
 "nbformat_minor": 5
}
