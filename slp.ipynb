{
 "cells": [
  {
   "cell_type": "code",
   "execution_count": 3,
   "id": "608918b2",
   "metadata": {},
   "outputs": [],
   "source": [
    "import os\n",
    "import melee \n",
    "import numpy as np\n",
    "import pandas as pd\n",
    "from data_processing import process_slp_file, save_processed_data"
   ]
  },
  {
   "cell_type": "code",
   "execution_count": 2,
   "id": "d785e7e7",
   "metadata": {},
   "outputs": [
    {
     "data": {
      "text/plain": [
       "'/Users/alexoon/Desktop/smash_bot/icl_smash'"
      ]
     },
     "execution_count": 2,
     "metadata": {},
     "output_type": "execute_result"
    }
   ],
   "source": [
    "os.getcwd()"
   ]
  },
  {
   "cell_type": "code",
   "execution_count": 6,
   "id": "8d27ebd4",
   "metadata": {},
   "outputs": [
    {
     "data": {
      "text/plain": [
       "(842, 97)"
      ]
     },
     "execution_count": 6,
     "metadata": {},
     "output_type": "execute_result"
    }
   ],
   "source": [
    "# Process a single file\n",
    "slp_file = \"./data/Stream-Game_20220828T223051.slp\"\n",
    "sampled_data, columns = process_slp_file(slp_file)\n",
    "sampled_data.shape\n",
    "\n",
    "# Save the results\n",
    "# save_processed_data(sampled_data, columns, \"./training_data\", \"DESIRED_FILENAME\")\n",
    "\n",
    "# Or use the main function directly\n",
    "# shape = main(slp_file, \"./training_data\", \"DESIRED_FILENAME\")"
   ]
  },
  {
   "cell_type": "code",
   "execution_count": 7,
   "id": "b7d4d4f3",
   "metadata": {},
   "outputs": [
    {
     "data": {
      "text/plain": [
       "(401, 37)"
      ]
     },
     "execution_count": 7,
     "metadata": {},
     "output_type": "execute_result"
    }
   ],
   "source": [
    "# This is the other data from the other github repo\n",
    "alt_data = np.load(\"/Users/alexoon/Desktop/smash_bot/icl_smash/training_data/CPTFALCON_FOX_on_FINAL_DESTINATION_data_X.npy\")\n",
    "alt_data.shape"
   ]
  }
 ],
 "metadata": {
  "kernelspec": {
   "display_name": "smash_venv",
   "language": "python",
   "name": "python3"
  },
  "language_info": {
   "codemirror_mode": {
    "name": "ipython",
    "version": 3
   },
   "file_extension": ".py",
   "mimetype": "text/x-python",
   "name": "python",
   "nbconvert_exporter": "python",
   "pygments_lexer": "ipython3",
   "version": "3.10.13"
  }
 },
 "nbformat": 4,
 "nbformat_minor": 5
}
