{
 "cells": [
  {
   "cell_type": "code",
   "execution_count": 15,
   "id": "608918b2",
   "metadata": {},
   "outputs": [],
   "source": [
    "import os\n",
    "import importlib\n",
    "import melee \n",
    "import numpy as np\n",
    "import pandas as pd\n",
    "import data_processing \n",
    "importlib.reload(data_processing) \n",
    "from data_processing import process_slp_file, save_processed_data, process_and_save_sequences, process_archive_files_streaming, batch_process_archives, process_directory_slp_files"
   ]
  },
  {
   "cell_type": "code",
   "execution_count": 16,
   "id": "d785e7e7",
   "metadata": {},
   "outputs": [
    {
     "data": {
      "text/plain": [
       "'/Users/alexoon/Desktop/smash_bot/icl_smash'"
      ]
     },
     "execution_count": 16,
     "metadata": {},
     "output_type": "execute_result"
    }
   ],
   "source": [
    "os.getcwd()"
   ]
  },
  {
   "cell_type": "code",
   "execution_count": 17,
   "id": "8d27ebd4",
   "metadata": {},
   "outputs": [
    {
     "name": "stdout",
     "output_type": "stream",
     "text": [
      "Saved sequences to ./training_data/[libmeleeV2]example1_sequences.npz\n",
      "Input shape: (828, 113, 10)\n",
      "Target shape: (828, 113, 5)\n"
     ]
    }
   ],
   "source": [
    "# Process a single file\n",
    "slp_file = \"./data/Stream-Game_20220828T223051.slp\"\n",
    "sampled_data, columns = process_slp_file(slp_file)\n",
    "sampled_data.shape\n",
    "\n",
    "# Create and save sequences\n",
    "input_seqs, target_seqs = process_and_save_sequences(\n",
    "    sampled_data, \n",
    "    \"./training_data\", \n",
    "    \"[libmeleeV2]example1\",\n",
    "    input_len=10,\n",
    "    target_len=5\n",
    ")\n",
    "# Save the results\n",
    "# save_processed_data(sampled_data, columns, \"./training_data\", \"[libmeleeV2]training_ex1.npy\", save_csv=True)\n",
    "\n",
    "# Or use the main function directly\n",
    "# shape = main(slp_file, \"./training_data\", \"DESIRED_FILENAME\")"
   ]
  },
  {
   "cell_type": "code",
   "execution_count": 18,
   "id": "cdffc398",
   "metadata": {},
   "outputs": [],
   "source": [
    "# To load the sequences later:\n",
    "loaded = np.load(\"./training_data/[libmeleeV2]example1_sequences.npz\", allow_pickle=True)\n",
    "input_seqs = loaded['inputs']\n",
    "target_seqs = loaded['targets']"
   ]
  },
  {
   "cell_type": "code",
   "execution_count": 19,
   "id": "3b08e90a",
   "metadata": {},
   "outputs": [
    {
     "data": {
      "text/plain": [
       "'/Users/alexoon/Desktop/smash_bot/icl_smash'"
      ]
     },
     "execution_count": 19,
     "metadata": {},
     "output_type": "execute_result"
    }
   ],
   "source": [
    "os.getcwd()"
   ]
  },
  {
   "cell_type": "code",
   "execution_count": 20,
   "id": "048e04a2",
   "metadata": {},
   "outputs": [
    {
     "data": {
      "text/plain": [
       "['frame',\n",
       " 'distance',\n",
       " 'p3_action_frame',\n",
       " 'p3_controller_c_stick_x',\n",
       " 'p3_controller_c_stick_y',\n",
       " 'p3_controller_l_shoulder',\n",
       " 'p3_controller_r_shoulder',\n",
       " 'p3_controller_main_stick_x',\n",
       " 'p3_controller_main_stick_y',\n",
       " 'p3_button_button_a',\n",
       " 'p3_button_button_b',\n",
       " 'p3_button_button_x',\n",
       " 'p3_button_button_y',\n",
       " 'p3_button_button_z',\n",
       " 'p3_button_button_l',\n",
       " 'p3_button_button_r',\n",
       " 'p3_button_button_start',\n",
       " 'p3_button_button_d_up',\n",
       " 'p3_button_button_d_down',\n",
       " 'p3_button_button_d_left',\n",
       " 'p3_button_button_d_right',\n",
       " 'p3_ecb_bottom_x',\n",
       " 'p3_ecb_bottom_y',\n",
       " 'p3_ecb_left_x',\n",
       " 'p3_ecb_left_y',\n",
       " 'p3_ecb_right_x',\n",
       " 'p3_ecb_right_y',\n",
       " 'p3_ecb_top_x',\n",
       " 'p3_ecb_top_y',\n",
       " 'p3_facing',\n",
       " 'p3_hitlag_left',\n",
       " 'p3_hitstun_frames_left',\n",
       " 'p3_iasa',\n",
       " 'p3_invulnerability_left',\n",
       " 'p3_invulnerable',\n",
       " 'p3_jumps_left',\n",
       " 'p3_moonwalkwarning',\n",
       " 'p3_nana',\n",
       " 'p3_off_stage',\n",
       " 'p3_on_ground',\n",
       " 'p3_percent',\n",
       " 'p3_position_x',\n",
       " 'p3_position_y',\n",
       " 'p3_shield_strength',\n",
       " 'p3_speed_air_x_self',\n",
       " 'p3_speed_ground_x_self',\n",
       " 'p3_speed_x_attack',\n",
       " 'p3_speed_y_self',\n",
       " 'p3_stock',\n",
       " 'p4_action_frame',\n",
       " 'p4_controller_c_stick_x',\n",
       " 'p4_controller_c_stick_y',\n",
       " 'p4_controller_l_shoulder',\n",
       " 'p4_controller_r_shoulder',\n",
       " 'p4_controller_main_stick_x',\n",
       " 'p4_controller_main_stick_y',\n",
       " 'p4_button_button_a',\n",
       " 'p4_button_button_b',\n",
       " 'p4_button_button_x',\n",
       " 'p4_button_button_y',\n",
       " 'p4_button_button_z',\n",
       " 'p4_button_button_l',\n",
       " 'p4_button_button_r',\n",
       " 'p4_button_button_start',\n",
       " 'p4_button_button_d_up',\n",
       " 'p4_button_button_d_down',\n",
       " 'p4_button_button_d_left',\n",
       " 'p4_button_button_d_right',\n",
       " 'p4_ecb_bottom_x',\n",
       " 'p4_ecb_bottom_y',\n",
       " 'p4_ecb_left_x',\n",
       " 'p4_ecb_left_y',\n",
       " 'p4_ecb_right_x',\n",
       " 'p4_ecb_right_y',\n",
       " 'p4_ecb_top_x',\n",
       " 'p4_ecb_top_y',\n",
       " 'p4_facing',\n",
       " 'p4_hitlag_left',\n",
       " 'p4_hitstun_frames_left',\n",
       " 'p4_iasa',\n",
       " 'p4_invulnerability_left',\n",
       " 'p4_invulnerable',\n",
       " 'p4_jumps_left',\n",
       " 'p4_moonwalkwarning',\n",
       " 'p4_nana',\n",
       " 'p4_off_stage',\n",
       " 'p4_on_ground',\n",
       " 'p4_percent',\n",
       " 'p4_position_x',\n",
       " 'p4_position_y',\n",
       " 'p4_shield_strength',\n",
       " 'p4_speed_air_x_self',\n",
       " 'p4_speed_ground_x_self',\n",
       " 'p4_speed_x_attack',\n",
       " 'p4_speed_y_self',\n",
       " 'p4_stock',\n",
       " 'proj0_frame',\n",
       " 'proj0_owner',\n",
       " 'proj0_position_x',\n",
       " 'proj0_position_y',\n",
       " 'proj0_speed_x',\n",
       " 'proj0_speed_y',\n",
       " 'proj1_frame',\n",
       " 'proj1_owner',\n",
       " 'proj1_position_x',\n",
       " 'proj1_position_y',\n",
       " 'proj1_speed_x',\n",
       " 'proj1_speed_y',\n",
       " 'stage',\n",
       " 'p3_action',\n",
       " 'p3_character',\n",
       " 'p4_action',\n",
       " 'p4_character']"
      ]
     },
     "execution_count": 20,
     "metadata": {},
     "output_type": "execute_result"
    }
   ],
   "source": [
    "columns"
   ]
  },
  {
   "cell_type": "code",
   "execution_count": null,
   "id": "45b72009",
   "metadata": {},
   "outputs": [
    {
     "data": {
      "text/html": [
       "<div>\n",
       "<style scoped>\n",
       "    .dataframe tbody tr th:only-of-type {\n",
       "        vertical-align: middle;\n",
       "    }\n",
       "\n",
       "    .dataframe tbody tr th {\n",
       "        vertical-align: top;\n",
       "    }\n",
       "\n",
       "    .dataframe thead th {\n",
       "        text-align: right;\n",
       "    }\n",
       "</style>\n",
       "<table border=\"1\" class=\"dataframe\">\n",
       "  <thead>\n",
       "    <tr style=\"text-align: right;\">\n",
       "      <th></th>\n",
       "      <th>frame</th>\n",
       "      <th>distance</th>\n",
       "      <th>p3_action_frame</th>\n",
       "      <th>p3_controller_c_stick_x</th>\n",
       "      <th>p3_controller_c_stick_y</th>\n",
       "      <th>p3_controller_l_shoulder</th>\n",
       "      <th>p3_controller_r_shoulder</th>\n",
       "      <th>p3_controller_main_stick_x</th>\n",
       "      <th>p3_controller_main_stick_y</th>\n",
       "      <th>p3_button_button_a</th>\n",
       "      <th>...</th>\n",
       "      <th>proj1_owner</th>\n",
       "      <th>proj1_position_x</th>\n",
       "      <th>proj1_position_y</th>\n",
       "      <th>proj1_speed_x</th>\n",
       "      <th>proj1_speed_y</th>\n",
       "      <th>stage</th>\n",
       "      <th>p3_action</th>\n",
       "      <th>p3_character</th>\n",
       "      <th>p4_action</th>\n",
       "      <th>p4_character</th>\n",
       "    </tr>\n",
       "  </thead>\n",
       "  <tbody>\n",
       "    <tr>\n",
       "      <th>0</th>\n",
       "      <td>-123</td>\n",
       "      <td>94.000052</td>\n",
       "      <td>-1</td>\n",
       "      <td>0.5</td>\n",
       "      <td>0.5</td>\n",
       "      <td>0.0</td>\n",
       "      <td>0.0</td>\n",
       "      <td>0.5</td>\n",
       "      <td>0.5</td>\n",
       "      <td>1</td>\n",
       "      <td>...</td>\n",
       "      <td>NaN</td>\n",
       "      <td>NaN</td>\n",
       "      <td>NaN</td>\n",
       "      <td>NaN</td>\n",
       "      <td>NaN</td>\n",
       "      <td>DREAMLAND</td>\n",
       "      <td>ENTRY</td>\n",
       "      <td>SHEIK</td>\n",
       "      <td>ENTRY</td>\n",
       "      <td>JIGGLYPUFF</td>\n",
       "    </tr>\n",
       "    <tr>\n",
       "      <th>1</th>\n",
       "      <td>-108</td>\n",
       "      <td>94.000021</td>\n",
       "      <td>1</td>\n",
       "      <td>0.5</td>\n",
       "      <td>0.5</td>\n",
       "      <td>0.0</td>\n",
       "      <td>0.0</td>\n",
       "      <td>0.5</td>\n",
       "      <td>0.5</td>\n",
       "      <td>1</td>\n",
       "      <td>...</td>\n",
       "      <td>NaN</td>\n",
       "      <td>NaN</td>\n",
       "      <td>NaN</td>\n",
       "      <td>NaN</td>\n",
       "      <td>NaN</td>\n",
       "      <td>DREAMLAND</td>\n",
       "      <td>ENTRY_START</td>\n",
       "      <td>SHEIK</td>\n",
       "      <td>ENTRY</td>\n",
       "      <td>JIGGLYPUFF</td>\n",
       "    </tr>\n",
       "    <tr>\n",
       "      <th>2</th>\n",
       "      <td>-93</td>\n",
       "      <td>94.000026</td>\n",
       "      <td>11</td>\n",
       "      <td>0.5</td>\n",
       "      <td>0.5</td>\n",
       "      <td>0.0</td>\n",
       "      <td>0.0</td>\n",
       "      <td>0.5</td>\n",
       "      <td>0.5</td>\n",
       "      <td>1</td>\n",
       "      <td>...</td>\n",
       "      <td>NaN</td>\n",
       "      <td>NaN</td>\n",
       "      <td>NaN</td>\n",
       "      <td>NaN</td>\n",
       "      <td>NaN</td>\n",
       "      <td>DREAMLAND</td>\n",
       "      <td>ENTRY_START</td>\n",
       "      <td>SHEIK</td>\n",
       "      <td>ENTRY_START</td>\n",
       "      <td>JIGGLYPUFF</td>\n",
       "    </tr>\n",
       "    <tr>\n",
       "      <th>3</th>\n",
       "      <td>-78</td>\n",
       "      <td>94.000010</td>\n",
       "      <td>-1</td>\n",
       "      <td>0.5</td>\n",
       "      <td>0.5</td>\n",
       "      <td>0.0</td>\n",
       "      <td>0.0</td>\n",
       "      <td>0.5</td>\n",
       "      <td>0.5</td>\n",
       "      <td>1</td>\n",
       "      <td>...</td>\n",
       "      <td>NaN</td>\n",
       "      <td>NaN</td>\n",
       "      <td>NaN</td>\n",
       "      <td>NaN</td>\n",
       "      <td>NaN</td>\n",
       "      <td>DREAMLAND</td>\n",
       "      <td>ENTRY_END</td>\n",
       "      <td>SHEIK</td>\n",
       "      <td>ENTRY_START</td>\n",
       "      <td>JIGGLYPUFF</td>\n",
       "    </tr>\n",
       "    <tr>\n",
       "      <th>4</th>\n",
       "      <td>-63</td>\n",
       "      <td>94.000639</td>\n",
       "      <td>-1</td>\n",
       "      <td>0.5</td>\n",
       "      <td>0.5</td>\n",
       "      <td>0.0</td>\n",
       "      <td>0.0</td>\n",
       "      <td>0.5</td>\n",
       "      <td>0.5</td>\n",
       "      <td>1</td>\n",
       "      <td>...</td>\n",
       "      <td>NaN</td>\n",
       "      <td>NaN</td>\n",
       "      <td>NaN</td>\n",
       "      <td>NaN</td>\n",
       "      <td>NaN</td>\n",
       "      <td>DREAMLAND</td>\n",
       "      <td>ENTRY_END</td>\n",
       "      <td>SHEIK</td>\n",
       "      <td>ENTRY_END</td>\n",
       "      <td>JIGGLYPUFF</td>\n",
       "    </tr>\n",
       "  </tbody>\n",
       "</table>\n",
       "<p>5 rows × 113 columns</p>\n",
       "</div>"
      ],
      "text/plain": [
       "   frame   distance  p3_action_frame  p3_controller_c_stick_x  \\\n",
       "0   -123  94.000052               -1                      0.5   \n",
       "1   -108  94.000021                1                      0.5   \n",
       "2    -93  94.000026               11                      0.5   \n",
       "3    -78  94.000010               -1                      0.5   \n",
       "4    -63  94.000639               -1                      0.5   \n",
       "\n",
       "   p3_controller_c_stick_y  p3_controller_l_shoulder  \\\n",
       "0                      0.5                       0.0   \n",
       "1                      0.5                       0.0   \n",
       "2                      0.5                       0.0   \n",
       "3                      0.5                       0.0   \n",
       "4                      0.5                       0.0   \n",
       "\n",
       "   p3_controller_r_shoulder  p3_controller_main_stick_x  \\\n",
       "0                       0.0                         0.5   \n",
       "1                       0.0                         0.5   \n",
       "2                       0.0                         0.5   \n",
       "3                       0.0                         0.5   \n",
       "4                       0.0                         0.5   \n",
       "\n",
       "   p3_controller_main_stick_y  p3_button_button_a  ...  proj1_owner  \\\n",
       "0                         0.5                   1  ...          NaN   \n",
       "1                         0.5                   1  ...          NaN   \n",
       "2                         0.5                   1  ...          NaN   \n",
       "3                         0.5                   1  ...          NaN   \n",
       "4                         0.5                   1  ...          NaN   \n",
       "\n",
       "   proj1_position_x  proj1_position_y  proj1_speed_x  proj1_speed_y  \\\n",
       "0               NaN               NaN            NaN            NaN   \n",
       "1               NaN               NaN            NaN            NaN   \n",
       "2               NaN               NaN            NaN            NaN   \n",
       "3               NaN               NaN            NaN            NaN   \n",
       "4               NaN               NaN            NaN            NaN   \n",
       "\n",
       "       stage    p3_action  p3_character    p4_action  p4_character  \n",
       "0  DREAMLAND        ENTRY         SHEIK        ENTRY    JIGGLYPUFF  \n",
       "1  DREAMLAND  ENTRY_START         SHEIK        ENTRY    JIGGLYPUFF  \n",
       "2  DREAMLAND  ENTRY_START         SHEIK  ENTRY_START    JIGGLYPUFF  \n",
       "3  DREAMLAND    ENTRY_END         SHEIK  ENTRY_START    JIGGLYPUFF  \n",
       "4  DREAMLAND    ENTRY_END         SHEIK    ENTRY_END    JIGGLYPUFF  \n",
       "\n",
       "[5 rows x 113 columns]"
      ]
     },
     "execution_count": 22,
     "metadata": {},
     "output_type": "execute_result"
    }
   ],
   "source": [
    "df = pd.read_csv(\"/Users/alexoon/Desktop/smash_bot/icl_smash/old_data/[libmeleeV2]training_ex1.npy_data.csv\")\n",
    "df.head() \n",
    "# Order of ENUMS: stage, p3_action, p3_character, p4_action, p4_character (could replace p3 and p4 with p1 and p2 respectively)"
   ]
  },
  {
   "cell_type": "code",
   "execution_count": null,
   "id": "d1bbca10",
   "metadata": {},
   "outputs": [
    {
     "name": "stderr",
     "output_type": "stream",
     "text": [
      "Processing 7Z files:  33%|███▎      | 2/6 [00:03<00:06,  1.57s/it]"
     ]
    },
    {
     "name": "stdout",
     "output_type": "stream",
     "text": [
      "Saved sequences to ./training_data/BTSSmash-Game_20200126T202356_sequences.npz\n",
      "Input shape: (1572, 10, 113)\n",
      "Target shape: (1572, 5, 113)\n",
      "❌ Failed to process data/Day 3-Game_20210718T094500.slp: 61 is not a valid EventType\n"
     ]
    },
    {
     "name": "stderr",
     "output_type": "stream",
     "text": [
      "Processing 7Z files:  50%|█████     | 3/6 [00:03<00:02,  1.05it/s]"
     ]
    },
    {
     "name": "stdout",
     "output_type": "stream",
     "text": [
      "Saved sequences to ./training_data/Game_001AE992EB29_20210714T205828_sequences.npz\n",
      "Input shape: (19, 10, 211)\n",
      "Target shape: (19, 5, 211)\n"
     ]
    },
    {
     "name": "stderr",
     "output_type": "stream",
     "text": [
      "Processing 7Z files:  67%|██████▋   | 4/6 [00:05<00:02,  1.33s/it]"
     ]
    },
    {
     "name": "stdout",
     "output_type": "stream",
     "text": [
      "Saved sequences to ./training_data/Stream-Game_20220828T223051_sequences.npz\n",
      "Input shape: (827, 10, 113)\n",
      "Target shape: (827, 5, 113)\n"
     ]
    },
    {
     "name": "stderr",
     "output_type": "stream",
     "text": [
      "Processing 7Z files:  83%|████████▎ | 5/6 [00:07<00:01,  1.30s/it]"
     ]
    },
    {
     "name": "stdout",
     "output_type": "stream",
     "text": [
      "Saved sequences to ./training_data/Stream-Game_20220828T225101_sequences.npz\n",
      "Input shape: (525, 10, 113)\n",
      "Target shape: (525, 5, 113)\n"
     ]
    },
    {
     "name": "stderr",
     "output_type": "stream",
     "text": [
      "Processing 7Z files: 100%|██████████| 6/6 [00:09<00:00,  1.53s/it]"
     ]
    },
    {
     "name": "stdout",
     "output_type": "stream",
     "text": [
      "Saved sequences to ./training_data/Stream-Game_20220828T225335_sequences.npz\n",
      "Input shape: (796, 10, 113)\n",
      "Target shape: (796, 5, 113)\n",
      "\n",
      "Processed 5 files from old_data/example_7z.7z\n",
      "Failed to process 1 files\n",
      "Failed files:\n",
      "  - data/Day 3-Game_20210718T094500.slp\n",
      "Results saved to: ./training_data\n"
     ]
    },
    {
     "name": "stderr",
     "output_type": "stream",
     "text": [
      "\n"
     ]
    }
   ],
   "source": [
    "# batch_process_archives(\"./old_data/\", \"./training_data/\")\n",
    "process_archive_files_streaming(\"./old_data/example_7z.7z\", \"./training_data\")"
   ]
  },
  {
   "cell_type": "code",
   "execution_count": 14,
   "id": "5f07c6bf",
   "metadata": {},
   "outputs": [
    {
     "name": "stdout",
     "output_type": "stream",
     "text": [
      "Found 6 .slp files to process\n"
     ]
    },
    {
     "name": "stderr",
     "output_type": "stream",
     "text": [
      "Processing .slp files:  33%|███▎      | 2/6 [00:02<00:04,  1.15s/it]"
     ]
    },
    {
     "name": "stdout",
     "output_type": "stream",
     "text": [
      "Saved sequences to ./training_data/Stream-Game_20220828T225101_sequences.npz\n",
      "Input shape: (526, 113, 10)\n",
      "Target shape: (526, 113, 5)\n"
     ]
    },
    {
     "name": "stderr",
     "output_type": "stream",
     "text": [
      "Processing .slp files:  50%|█████     | 3/6 [00:02<00:02,  1.23it/s]"
     ]
    },
    {
     "name": "stdout",
     "output_type": "stream",
     "text": [
      "Saved sequences to ./training_data/Game_001AE992EB29_20210714T205828_sequences.npz\n",
      "Input shape: (20, 211, 10)\n",
      "Target shape: (20, 211, 5)\n"
     ]
    },
    {
     "name": "stderr",
     "output_type": "stream",
     "text": [
      "Processing .slp files:  67%|██████▋   | 4/6 [00:08<00:05,  2.53s/it]"
     ]
    },
    {
     "name": "stdout",
     "output_type": "stream",
     "text": [
      "Saved sequences to ./training_data/BTSSmash-Game_20200126T202356_sequences.npz\n",
      "Input shape: (1573, 113, 10)\n",
      "Target shape: (1573, 113, 5)\n"
     ]
    },
    {
     "name": "stderr",
     "output_type": "stream",
     "text": [
      "Processing .slp files:  83%|████████▎ | 5/6 [00:11<00:02,  2.73s/it]"
     ]
    },
    {
     "name": "stdout",
     "output_type": "stream",
     "text": [
      "Saved sequences to ./training_data/Stream-Game_20220828T223051_sequences.npz\n",
      "Input shape: (828, 113, 10)\n",
      "Target shape: (828, 113, 5)\n"
     ]
    },
    {
     "name": "stderr",
     "output_type": "stream",
     "text": [
      "Processing .slp files: 100%|██████████| 6/6 [00:13<00:00,  2.31s/it]"
     ]
    },
    {
     "name": "stdout",
     "output_type": "stream",
     "text": [
      "Saved sequences to ./training_data/Stream-Game_20220828T225335_sequences.npz\n",
      "Input shape: (797, 113, 10)\n",
      "Target shape: (797, 113, 5)\n",
      "\n",
      "Successfully processed 5 files\n",
      "Failed to process 1 files:\n",
      "  - data/Day 3-Game_20210718T094500.slp: 61 is not a valid EventType\n",
      "Results saved to: ./training_data\n"
     ]
    },
    {
     "name": "stderr",
     "output_type": "stream",
     "text": [
      "\n"
     ]
    }
   ],
   "source": [
    "# Define input and output directories\n",
    "data_dir = \"./data\"\n",
    "output_dir = \"./training_data\"\n",
    "\n",
    "# Make sure output directory exists\n",
    "os.makedirs(output_dir, exist_ok=True)\n",
    "\n",
    "# Process all .slp files\n",
    "processed_count, failed = process_directory_slp_files(\n",
    "    directory_path=data_dir,\n",
    "    output_dir=output_dir,\n",
    "    input_len=10,\n",
    "    target_len=5\n",
    ")"
   ]
  }
 ],
 "metadata": {
  "kernelspec": {
   "display_name": "smash_venv",
   "language": "python",
   "name": "python3"
  },
  "language_info": {
   "codemirror_mode": {
    "name": "ipython",
    "version": 3
   },
   "file_extension": ".py",
   "mimetype": "text/x-python",
   "name": "python",
   "nbconvert_exporter": "python",
   "pygments_lexer": "ipython3",
   "version": "3.10.13"
  }
 },
 "nbformat": 4,
 "nbformat_minor": 5
}
